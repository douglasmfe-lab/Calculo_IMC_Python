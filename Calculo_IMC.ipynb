{
  "nbformat": 4,
  "nbformat_minor": 0,
  "metadata": {
    "colab": {
      "name": "Calculo_IMC.ipynb",
      "provenance": [],
      "collapsed_sections": [],
      "authorship_tag": "ABX9TyOMt0VRdxnRDALB5rMF67n5",
      "include_colab_link": true
    },
    "kernelspec": {
      "name": "python3",
      "display_name": "Python 3"
    }
  },
  "cells": [
    {
      "cell_type": "markdown",
      "metadata": {
        "id": "view-in-github",
        "colab_type": "text"
      },
      "source": [
        "<a href=\"https://colab.research.google.com/github/douglasmfe-lab/Calculo_IMC_Python/blob/master/Calculo_IMC.ipynb\" target=\"_parent\"><img src=\"https://colab.research.google.com/assets/colab-badge.svg\" alt=\"Open In Colab\"/></a>"
      ]
    },
    {
      "cell_type": "code",
      "metadata": {
        "id": "tb6RiYHWBzcA",
        "colab_type": "code",
        "colab": {
          "base_uri": "https://localhost:8080/",
          "height": 102
        },
        "outputId": "f94fad37-aa80-44f4-e3aa-46e996fbe24d"
      },
      "source": [
        "# Cálculo do IMC\n",
        "# Fórmula IMC = peso / (altura)²\n",
        "# Abaixo de 17\tMuito abaixo do peso\n",
        "# Entre 17 e 18,49\tAbaixo do peso\n",
        "# Entre 18,50 e 24,99\tPeso normal\n",
        "# Entre 25 e 29,99\tAcima do peso\n",
        "# Entre 30 e 34,99\tObesidade I\n",
        "# Entre 35 e 39,99\tObesidade II (severa)\n",
        "# Acima de 40\tObesidade III (mórbida)\n",
        "\n",
        "print(\"Vamos calcular seu IMC\")\n",
        "peso = float(input(\"Digite o seu peso: \"))\n",
        "altura = float(input(\"Digite a sua altura: \"))\n",
        "imc = peso / altura**2\n",
        "print(\"Seu imc é: {:.2f} \".format(imc))\n",
        "if imc < 17:\n",
        "  print(\"Muito abaixo do peso\")\n",
        "elif (imc >= 17) and (imc < 18.49):\n",
        "  print(\"Abaixo do peso\")\n",
        "elif (imc >= 18.50) and (imc < 24.99):\n",
        "  print(\"Peso normal\")\n",
        "elif (imc >= 25) and (imc < 29.99):\n",
        "  print(\"Acima do peso\")\n",
        "elif (imc >= 30) and (imc < 34.49):\n",
        "  print(\"Obesidade I\")\n",
        "elif (imc >= 35) and (imc < 39.99):\n",
        "  print(\"Obesidade grau II (severa)\")\n",
        "elif (imc >= 40):\n",
        "  print(\"Obesidade grau III (mórbida)\")"
      ],
      "execution_count": 3,
      "outputs": [
        {
          "output_type": "stream",
          "text": [
            "Vamos calcular seu IMC\n",
            "Digite o seu peso: 94.9\n",
            "Digite a sua altura: 1.83\n",
            "Seu imc é: 28.34 \n",
            "Acima do peso\n"
          ],
          "name": "stdout"
        }
      ]
    }
  ]
}